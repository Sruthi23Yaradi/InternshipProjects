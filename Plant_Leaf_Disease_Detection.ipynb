{
  "cells": [
    {
      "cell_type": "markdown",
      "metadata": {
        "id": "kmjeoRkmyqa5"
      },
      "source": [
        "# Downloading the dataset from Kaggle using API"
      ]
    },
    {
      "cell_type": "code",
      "execution_count": null,
      "metadata": {
        "colab": {
          "base_uri": "https://localhost:8080/"
        },
        "id": "s30G6XFIvPdt",
        "outputId": "050b3af1-78aa-44c3-c9af-f0bf7ece2be7"
      },
      "outputs": [
        {
          "name": "stdout",
          "output_type": "stream",
          "text": [
            "cp: cannot stat 'kaggle.json': No such file or directory\n"
          ]
        }
      ],
      "source": [
        "!mkdir -p ~/.kaggle\n",
        "!cp kaggle.json ~/.kaggle/"
      ]
    },
    {
      "cell_type": "code",
      "execution_count": null,
      "metadata": {
        "colab": {
          "base_uri": "https://localhost:8080/"
        },
        "id": "dBGIR5KDxYD6",
        "outputId": "d67f8ef9-27e7-4215-ae0f-dbe44639ede6"
      },
      "outputs": [
        {
          "name": "stdout",
          "output_type": "stream",
          "text": [
            "Dataset URL: https://www.kaggle.com/datasets/vipoooool/new-plant-diseases-dataset\n",
            "License(s): copyright-authors\n",
            "Downloading new-plant-diseases-dataset.zip to /content\n",
            " 99% 2.68G/2.70G [00:30<00:00, 106MB/s] \n",
            "100% 2.70G/2.70G [00:30<00:00, 95.7MB/s]\n"
          ]
        }
      ],
      "source": [
        "!kaggle datasets download -d vipoooool/new-plant-diseases-dataset"
      ]
    },
    {
      "cell_type": "markdown",
      "metadata": {
        "id": "-B_c7BnW0NFJ"
      },
      "source": [
        "# Extracting the data from the zipfile"
      ]
    },
    {
      "cell_type": "code",
      "execution_count": null,
      "metadata": {
        "id": "-VbX1I3hz35J"
      },
      "outputs": [],
      "source": [
        "import zipfile\n",
        "zip_ref = zipfile.ZipFile('/content/new-plant-diseases-dataset.zip')\n",
        "zip_ref.extractall('/content')\n",
        "zip_ref.close()"
      ]
    },
    {
      "cell_type": "markdown",
      "metadata": {
        "id": "OLVYJc1xtaaU"
      },
      "source": [
        "# Importing the necessary libraries"
      ]
    },
    {
      "cell_type": "code",
      "execution_count": null,
      "metadata": {
        "id": "6fS-JSKLnr_6"
      },
      "outputs": [],
      "source": [
        "import tensorflow as tf\n",
        "import matplotlib.pyplot as plt\n",
        "import pandas as pd\n",
        "import seaborn as sns"
      ]
    },
    {
      "cell_type": "code",
      "execution_count": null,
      "metadata": {
        "id": "HLcLPLi22f1J"
      },
      "outputs": [],
      "source": [
        "from tensorflow import keras\n",
        "from keras import Sequential\n",
        "from keras.layers import Dense, Conv2D, MaxPool2D, Flatten, BatchNormalization, Dropout"
      ]
    },
    {
      "cell_type": "markdown",
      "metadata": {
        "id": "0vpqWkNzzJLG"
      },
      "source": [
        "# Data Preprocessing"
      ]
    },
    {
      "cell_type": "markdown",
      "metadata": {
        "id": "cqu8MviL6Zml"
      },
      "source": [
        "Creating generators for the training and testing datasets\n"
      ]
    },
    {
      "cell_type": "code",
      "execution_count": null,
      "metadata": {
        "colab": {
          "base_uri": "https://localhost:8080/"
        },
        "id": "byOZbbml2NsC",
        "outputId": "3ebc216a-4ee8-40a8-fe23-e6f7bf45ac65"
      },
      "outputs": [
        {
          "name": "stdout",
          "output_type": "stream",
          "text": [
            "Found 70295 files belonging to 38 classes.\n",
            "Found 17572 files belonging to 38 classes.\n"
          ]
        }
      ],
      "source": [
        "train_ds=keras.utils.image_dataset_from_directory(\n",
        "    directory='/content/new plant diseases dataset(augmented)/New Plant Diseases Dataset(Augmented)/train',\n",
        "    labels ='inferred',\n",
        "    label_mode ='categorical',\n",
        "    class_names=None,\n",
        "    color_mode=\"rgb\",\n",
        "    shuffle=True,\n",
        "    seed=None,\n",
        "    validation_split=None,\n",
        "    batch_size=32,\n",
        "    subset=None,\n",
        "    interpolation=\"bilinear\",\n",
        "    crop_to_aspect_ratio=False,\n",
        "    follow_links=False,\n",
        "    image_size=(128,128)\n",
        ")\n",
        "\n",
        "validate_ds=keras.utils.image_dataset_from_directory(\n",
        "    directory='/content/new plant diseases dataset(augmented)/New Plant Diseases Dataset(Augmented)/valid',\n",
        "    labels ='inferred',\n",
        "    label_mode ='categorical',\n",
        "    class_names=None,\n",
        "    color_mode=\"rgb\",\n",
        "    shuffle=True,\n",
        "    seed=None,\n",
        "    validation_split=None,\n",
        "    batch_size=32,\n",
        "    subset=None,\n",
        "    interpolation=\"bilinear\",\n",
        "    crop_to_aspect_ratio=False,\n",
        "    follow_links=False,\n",
        "    image_size=(128,128)\n",
        ")"
      ]
    },
    {
      "cell_type": "markdown",
      "metadata": {
        "id": "_NtK7Fp58Sot"
      },
      "source": [
        "# Buiding the CNN Model"
      ]
    },
    {
      "cell_type": "code",
      "execution_count": null,
      "metadata": {
        "id": "RDtCFAYp6hcX"
      },
      "outputs": [],
      "source": [
        "model=Sequential()\n",
        "\n",
        "#Adding the convolutional layers\n",
        "model.add(Conv2D(filters=32,kernel_size=3,padding='same',activation='relu',input_shape=(128,128,3)))\n",
        "model.add(Conv2D(filters=32,kernel_size=3,activation='relu'))\n",
        "model.add(MaxPool2D(pool_size=2,strides=2))\n",
        "\n",
        "model.add(Conv2D(filters=64,kernel_size=3,padding='same',activation='relu',input_shape=(128,128,3)))\n",
        "model.add(Conv2D(filters=64,kernel_size=3,activation='relu'))\n",
        "model.add(MaxPool2D(pool_size=2,strides=2))\n",
        "\n",
        "model.add(Conv2D(filters=128,kernel_size=3,padding='same',activation='relu',input_shape=(128,128,3)))\n",
        "model.add(Conv2D(filters=128,kernel_size=3,activation='relu'))\n",
        "model.add(MaxPool2D(pool_size=2,strides=2))\n",
        "\n",
        "model.add(Conv2D(filters=256,kernel_size=3,padding='same',activation='relu',input_shape=(128,128,3)))\n",
        "model.add(Conv2D(filters=256,kernel_size=3,activation='relu'))\n",
        "model.add(MaxPool2D(pool_size=2,strides=2))\n",
        "\n",
        "model.add(Conv2D(filters=512,kernel_size=3,padding='same',activation='relu',input_shape=(128,128,3)))\n",
        "model.add(Conv2D(filters=512,kernel_size=3,activation='relu'))\n",
        "model.add(MaxPool2D(pool_size=2,strides=2))"
      ]
    },
    {
      "cell_type": "code",
      "execution_count": null,
      "metadata": {
        "id": "WlQw_IFOExSh"
      },
      "outputs": [],
      "source": [
        "model.add(Dropout(0.2))"
      ]
    },
    {
      "cell_type": "code",
      "execution_count": null,
      "metadata": {
        "id": "KArr3h2--94A"
      },
      "outputs": [],
      "source": [
        "#Flattening the model\n",
        "model.add(Flatten())"
      ]
    },
    {
      "cell_type": "code",
      "execution_count": null,
      "metadata": {
        "id": "lXmiF_KF_EEC"
      },
      "outputs": [],
      "source": [
        "#Adding Dense layer\n",
        "model.add(Dense(units=1024,activation='relu'))"
      ]
    },
    {
      "cell_type": "code",
      "execution_count": null,
      "metadata": {
        "id": "pskpXS1f_i2b"
      },
      "outputs": [],
      "source": [
        "#Output layer\n",
        "model.add(Dense(units=38,activation='softmax'))"
      ]
    },
    {
      "cell_type": "markdown",
      "metadata": {
        "id": "SqisUbksAFRk"
      },
      "source": [
        "Compiling the Model\n"
      ]
    },
    {
      "cell_type": "code",
      "execution_count": null,
      "metadata": {
        "colab": {
          "base_uri": "https://localhost:8080/"
        },
        "id": "T3IJvslD_4AE",
        "outputId": "f9ee617c-4e76-46d8-e8d6-b3cb298f57bc"
      },
      "outputs": [
        {
          "name": "stdout",
          "output_type": "stream",
          "text": [
            "Model: \"sequential\"\n",
            "_________________________________________________________________\n",
            " Layer (type)                Output Shape              Param #   \n",
            "=================================================================\n",
            " conv2d (Conv2D)             (None, 128, 128, 32)      896       \n",
            "                                                                 \n",
            " conv2d_1 (Conv2D)           (None, 126, 126, 32)      9248      \n",
            "                                                                 \n",
            " max_pooling2d (MaxPooling2  (None, 63, 63, 32)        0         \n",
            " D)                                                              \n",
            "                                                                 \n",
            " conv2d_2 (Conv2D)           (None, 63, 63, 64)        18496     \n",
            "                                                                 \n",
            " conv2d_3 (Conv2D)           (None, 61, 61, 64)        36928     \n",
            "                                                                 \n",
            " max_pooling2d_1 (MaxPoolin  (None, 30, 30, 64)        0         \n",
            " g2D)                                                            \n",
            "                                                                 \n",
            " conv2d_4 (Conv2D)           (None, 30, 30, 128)       73856     \n",
            "                                                                 \n",
            " conv2d_5 (Conv2D)           (None, 28, 28, 128)       147584    \n",
            "                                                                 \n",
            " max_pooling2d_2 (MaxPoolin  (None, 14, 14, 128)       0         \n",
            " g2D)                                                            \n",
            "                                                                 \n",
            " conv2d_6 (Conv2D)           (None, 14, 14, 256)       295168    \n",
            "                                                                 \n",
            " conv2d_7 (Conv2D)           (None, 12, 12, 256)       590080    \n",
            "                                                                 \n",
            " max_pooling2d_3 (MaxPoolin  (None, 6, 6, 256)         0         \n",
            " g2D)                                                            \n",
            "                                                                 \n",
            " conv2d_8 (Conv2D)           (None, 6, 6, 512)         1180160   \n",
            "                                                                 \n",
            " conv2d_9 (Conv2D)           (None, 4, 4, 512)         2359808   \n",
            "                                                                 \n",
            " max_pooling2d_4 (MaxPoolin  (None, 2, 2, 512)         0         \n",
            " g2D)                                                            \n",
            "                                                                 \n",
            " dropout (Dropout)           (None, 2, 2, 512)         0         \n",
            "                                                                 \n",
            " flatten (Flatten)           (None, 2048)              0         \n",
            "                                                                 \n",
            " dense (Dense)               (None, 1024)              2098176   \n",
            "                                                                 \n",
            " dense_1 (Dense)             (None, 38)                38950     \n",
            "                                                                 \n",
            "=================================================================\n",
            "Total params: 6849350 (26.13 MB)\n",
            "Trainable params: 6849350 (26.13 MB)\n",
            "Non-trainable params: 0 (0.00 Byte)\n",
            "_________________________________________________________________\n"
          ]
        }
      ],
      "source": [
        "model.compile(optimizer=tf.keras.optimizers.legacy.Adam(learning_rate=0.0001), loss='categorical_crossentropy', metrics=['accuracy'])\n",
        "model.summary()"
      ]
    },
    {
      "cell_type": "markdown",
      "metadata": {
        "id": "WIifRFX-B8bn"
      },
      "source": [
        "Training the Model"
      ]
    },
    {
      "cell_type": "code",
      "execution_count": null,
      "metadata": {
        "colab": {
          "background_save": true,
          "base_uri": "https://localhost:8080/"
        },
        "id": "Ie_ja-wGB7sx",
        "outputId": "0aeb7802-21ad-4977-ed35-9ef293865f39"
      },
      "outputs": [
        {
          "output_type": "stream",
          "name": "stdout",
          "text": [
            "Epoch 1/10\n",
            "1811/2197 [=======================>......] - ETA: 23:28 - loss: 1.2002 - accuracy: 0.6432"
          ]
        }
      ],
      "source": [
        "ds=model.fit(train_ds,validation_data=validate_ds,epochs=10)"
      ]
    },
    {
      "cell_type": "markdown",
      "metadata": {
        "id": "-djt-cKzP6Pb"
      },
      "source": [
        "Evaluating the model"
      ]
    },
    {
      "cell_type": "code",
      "execution_count": null,
      "metadata": {
        "id": "cf0Uz7p4OdXx"
      },
      "outputs": [],
      "source": [
        "tr_loss,tr_acc=model.evaluate(train_ds)"
      ]
    },
    {
      "cell_type": "code",
      "execution_count": null,
      "metadata": {
        "id": "iyRfMUrYQUsJ"
      },
      "outputs": [],
      "source": [
        "print(tr_loss,tr_acc)"
      ]
    },
    {
      "cell_type": "code",
      "execution_count": null,
      "metadata": {
        "id": "YnIjj9o4QNFj"
      },
      "outputs": [],
      "source": [
        "val_loss, val_acc=model.evaluate(validate_ds)"
      ]
    },
    {
      "cell_type": "code",
      "execution_count": null,
      "metadata": {
        "id": "UyOYnWjnQfiM"
      },
      "outputs": [],
      "source": [
        "print(val_loss,val_acc)"
      ]
    },
    {
      "cell_type": "markdown",
      "metadata": {
        "id": "qt9ZLVw1RQOG"
      },
      "source": [
        "#Visualizing"
      ]
    },
    {
      "cell_type": "code",
      "execution_count": null,
      "metadata": {
        "id": "0Te1OTbEQm4n"
      },
      "outputs": [],
      "source": [
        "e=[i for i in range(1,11)]\n",
        "plt.plot(e,ds.history['accuracy'],label='Training Accuracy')\n",
        "plt.plot(e,ds.history['val_accuracy'],color='red',label='Validation Accuracy')\n",
        "plt.xlabel(\"Epochs\")\n",
        "plt.ylabel(\"Accuracy\")\n",
        "plt.legend()\n",
        "plt.title(\"Visualization of Accuracy\")\n",
        "plt.show()"
      ]
    },
    {
      "cell_type": "markdown",
      "metadata": {
        "id": "WOrRs5kfS846"
      },
      "source": [
        "Other metrics of Evaluation"
      ]
    },
    {
      "cell_type": "code",
      "execution_count": null,
      "metadata": {
        "id": "zlofKu5ISng6"
      },
      "outputs": [],
      "source": [
        "class_name=validate_ds.class_names\n",
        "print(class_name)"
      ]
    },
    {
      "cell_type": "code",
      "execution_count": null,
      "metadata": {
        "id": "NkErDmvcTci3"
      },
      "outputs": [],
      "source": [
        "test_ds=keras.utils.image_dataset_from_directory(\n",
        "    directory='/content/new plant diseases dataset(augmented)/New Plant Diseases Dataset(Augmented)/valid',\n",
        "    labels ='inferred',\n",
        "    label_mode ='categorical',\n",
        "    class_names=None,\n",
        "    color_mode=\"rgb\",\n",
        "    shuffle=False,\n",
        "    seed=None,\n",
        "    validation_split=None,\n",
        "    batch_size=32,\n",
        "    subset=None,\n",
        "    interpolation=\"bilinear\",\n",
        "    crop_to_aspect_ratio=False,\n",
        "    follow_links=False,\n",
        "    image_size=(128,128)\n",
        ")"
      ]
    },
    {
      "cell_type": "markdown",
      "metadata": {
        "id": "swsh5ViRTs6-"
      },
      "source": [
        "# Prediction"
      ]
    },
    {
      "cell_type": "code",
      "execution_count": null,
      "metadata": {
        "id": "X3dq-ki2TqmP"
      },
      "outputs": [],
      "source": [
        "y_pred=model.predict(test_ds)"
      ]
    },
    {
      "cell_type": "code",
      "execution_count": null,
      "metadata": {
        "id": "kdwklYYcT-Hg"
      },
      "outputs": [],
      "source": [
        "predicted_ds=tf.argmax(y_pred,axis=1)"
      ]
    },
    {
      "cell_type": "code",
      "execution_count": null,
      "metadata": {
        "id": "pFT9aKz3UJs-"
      },
      "outputs": [],
      "source": [
        "y_true=tf.argmax(tf.concat([i for x,i in test_ds],axis=0),axis=1)"
      ]
    },
    {
      "cell_type": "code",
      "execution_count": null,
      "metadata": {
        "id": "m00C893HVh1p"
      },
      "outputs": [],
      "source": [
        "from sklearn.metrics import classification_report, confusion_matrix"
      ]
    },
    {
      "cell_type": "code",
      "execution_count": null,
      "metadata": {
        "id": "MUEi8R_-V68Z"
      },
      "outputs": [],
      "source": [
        "print(classification_report(y_true,predicted_ds,target_names=class_name))"
      ]
    },
    {
      "cell_type": "markdown",
      "metadata": {
        "id": "W4mpCzODYFZb"
      },
      "source": [
        "Confusion matrix Visualization"
      ]
    },
    {
      "cell_type": "code",
      "execution_count": null,
      "metadata": {
        "id": "iBKBpJUQXU-C"
      },
      "outputs": [],
      "source": [
        "c=confusion_matrix(y_true, predicted_ds)\n",
        "plt.figure(figsize=(30,30))\n",
        "sns.heatmap(c)\n",
        "plt.xlabel(\"Predicted Class\",fontsize=25)\n",
        "plt.ylabel(\"Actual Class\",fontsize=25)\n",
        "plt.title(\"Confusion matrix\",fontsize=35)\n"
      ]
    },
    {
      "cell_type": "markdown",
      "metadata": {
        "id": "ue35ym-0ajQW"
      },
      "source": [
        "# Visualizing Image of Test DataSet"
      ]
    },
    {
      "cell_type": "code",
      "execution_count": null,
      "metadata": {
        "id": "o46IqNjcaHra"
      },
      "outputs": [],
      "source": [
        "import cv2\n",
        "image_path='/content/test/test/AppleScab1.JPG'\n",
        "img=cv2.imread(image_path)\n",
        "plt.imshow(img)\n",
        "plt.title(\"Test Image\")\n",
        "plt.xticks([])\n",
        "plt.yticks([])\n",
        "plt.show()"
      ]
    },
    {
      "cell_type": "code",
      "execution_count": null,
      "metadata": {
        "id": "XCDtD5mibIzx"
      },
      "outputs": [],
      "source": [
        "img=cv2.cvtColor(img,cv2.COLOR_BGR2RGB)\n",
        "plt.imshow(img)\n",
        "plt.title(\"Test Image\")\n",
        "plt.xticks([])\n",
        "plt.yticks([])\n",
        "plt.show()"
      ]
    },
    {
      "cell_type": "markdown",
      "metadata": {
        "id": "EuR7AmP-cHBg"
      },
      "source": [
        "# Testing the Model"
      ]
    },
    {
      "cell_type": "code",
      "execution_count": null,
      "metadata": {
        "id": "Z84J_xiidfFS"
      },
      "outputs": [],
      "source": [
        "import numpy as np"
      ]
    },
    {
      "cell_type": "code",
      "execution_count": null,
      "metadata": {
        "id": "9LUUnb0ccDa-"
      },
      "outputs": [],
      "source": [
        "image=tf.keras.preprocessing.image.load_img(image_path,target_size=(128,128))\n",
        "arr=tf.keras.preprocessing.image.img_to_array(image)\n",
        "arr=np.array([arr])\n",
        "print(arr.shape)"
      ]
    },
    {
      "cell_type": "code",
      "execution_count": null,
      "metadata": {
        "id": "IOvKE-R5dL_G"
      },
      "outputs": [],
      "source": [
        "pred=model.predict(arr)\n"
      ]
    },
    {
      "cell_type": "markdown",
      "metadata": {
        "id": "kShjruacd9xK"
      },
      "source": [
        "Model Prediction"
      ]
    },
    {
      "cell_type": "code",
      "execution_count": null,
      "metadata": {
        "id": "gTQ8JJZcdvxr"
      },
      "outputs": [],
      "source": [
        "res=np.argmax(pred)\n",
        "print(class_name[res])\n"
      ]
    }
  ],
  "metadata": {
    "accelerator": "GPU",
    "colab": {
      "gpuType": "T4",
      "provenance": []
    },
    "kernelspec": {
      "display_name": "Python 3",
      "name": "python3"
    },
    "language_info": {
      "name": "python"
    }
  },
  "nbformat": 4,
  "nbformat_minor": 0
}